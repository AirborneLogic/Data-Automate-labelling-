{
 "cells": [
  {
   "cell_type": "code",
   "execution_count": 79,
   "metadata": {},
   "outputs": [
    {
     "data": {
      "text/plain": [
       "<module 'Label_line' from 'C:\\\\Users\\\\Mike\\\\Documents\\\\GitHub\\\\Data-Automate-labelling-\\\\Label_line.py'>"
      ]
     },
     "execution_count": 79,
     "metadata": {},
     "output_type": "execute_result"
    }
   ],
   "source": [
    "import sys\n",
    "import importlib\n",
    "\n",
    "import geopandas as gpd\n",
    "import Reorder\n",
    "import Label_line\n",
    "\n",
    "importlib.reload(sys.modules['Reorder'])\n",
    "importlib.reload(sys.modules['Label_line'])"
   ]
  },
  {
   "cell_type": "code",
   "execution_count": 59,
   "metadata": {},
   "outputs": [],
   "source": [
    "def print_coords(gdf):\n",
    "    for _, row in gdf.iterrows():\n",
    "        coords = list(row['geometry'].coords)\n",
    "        for (x, y) in coords:\n",
    "            print(x, y)\n",
    "        print()"
   ]
  },
  {
   "cell_type": "code",
   "execution_count": 5,
   "metadata": {},
   "outputs": [],
   "source": [
    "# This is a shapefile with only 2 lines, both running approx NS.\n",
    "# The left line (drawn first, thus numbered first) was drawn N->S, the right S-> N\n",
    "ns_shp_path = r\"C:\\Users\\Mike\\Documents\\GitHub\\Data-Automate-labelling-\\test_data\\longhan-fn-testing-ns.shp\"\n",
    "# This is a shapefile with only 2 lines, both running approx EW.\n",
    "# The top line (drawn first, thus numbered first) was drawn W->E, the bottom E-> W\n",
    "ew_shp_path = r\"C:\\Users\\Mike\\Documents\\GitHub\\Data-Automate-labelling-\\test_data\\longhan-fn-testing-ew.shp\""
   ]
  },
  {
   "cell_type": "markdown",
   "metadata": {},
   "source": [
    "# Check Reorder works"
   ]
  },
  {
   "cell_type": "code",
   "execution_count": 67,
   "metadata": {},
   "outputs": [
    {
     "data": {
      "text/html": [
       "<div>\n",
       "<style scoped>\n",
       "    .dataframe tbody tr th:only-of-type {\n",
       "        vertical-align: middle;\n",
       "    }\n",
       "\n",
       "    .dataframe tbody tr th {\n",
       "        vertical-align: top;\n",
       "    }\n",
       "\n",
       "    .dataframe thead th {\n",
       "        text-align: right;\n",
       "    }\n",
       "</style>\n",
       "<table border=\"1\" class=\"dataframe\">\n",
       "  <thead>\n",
       "    <tr style=\"text-align: right;\">\n",
       "      <th></th>\n",
       "      <th>id</th>\n",
       "      <th>row_number</th>\n",
       "      <th>geometry</th>\n",
       "    </tr>\n",
       "  </thead>\n",
       "  <tbody>\n",
       "    <tr>\n",
       "      <th>0</th>\n",
       "      <td>None</td>\n",
       "      <td>None</td>\n",
       "      <td>LINESTRING (282182.515 6249874.354, 282180.739...</td>\n",
       "    </tr>\n",
       "    <tr>\n",
       "      <th>1</th>\n",
       "      <td>None</td>\n",
       "      <td>None</td>\n",
       "      <td>LINESTRING (282199.729 6249808.200, 282199.729...</td>\n",
       "    </tr>\n",
       "  </tbody>\n",
       "</table>\n",
       "</div>"
      ],
      "text/plain": [
       "     id row_number                                           geometry\n",
       "0  None       None  LINESTRING (282182.515 6249874.354, 282180.739...\n",
       "1  None       None  LINESTRING (282199.729 6249808.200, 282199.729..."
      ]
     },
     "execution_count": 67,
     "metadata": {},
     "output_type": "execute_result"
    }
   ],
   "source": [
    "ns = gpd.read_file(ns_shp)\n",
    "ns"
   ]
  },
  {
   "cell_type": "code",
   "execution_count": 68,
   "metadata": {},
   "outputs": [
    {
     "data": {
      "text/html": [
       "<div>\n",
       "<style scoped>\n",
       "    .dataframe tbody tr th:only-of-type {\n",
       "        vertical-align: middle;\n",
       "    }\n",
       "\n",
       "    .dataframe tbody tr th {\n",
       "        vertical-align: top;\n",
       "    }\n",
       "\n",
       "    .dataframe thead th {\n",
       "        text-align: right;\n",
       "    }\n",
       "</style>\n",
       "<table border=\"1\" class=\"dataframe\">\n",
       "  <thead>\n",
       "    <tr style=\"text-align: right;\">\n",
       "      <th></th>\n",
       "      <th>id</th>\n",
       "      <th>row_number</th>\n",
       "      <th>geometry</th>\n",
       "    </tr>\n",
       "  </thead>\n",
       "  <tbody>\n",
       "    <tr>\n",
       "      <th>0</th>\n",
       "      <td>None</td>\n",
       "      <td>None</td>\n",
       "      <td>LINESTRING (282211.076 6249850.888, 282264.106...</td>\n",
       "    </tr>\n",
       "    <tr>\n",
       "      <th>1</th>\n",
       "      <td>None</td>\n",
       "      <td>None</td>\n",
       "      <td>LINESTRING (282263.103 6249831.049, 282212.620...</td>\n",
       "    </tr>\n",
       "  </tbody>\n",
       "</table>\n",
       "</div>"
      ],
      "text/plain": [
       "     id row_number                                           geometry\n",
       "0  None       None  LINESTRING (282211.076 6249850.888, 282264.106...\n",
       "1  None       None  LINESTRING (282263.103 6249831.049, 282212.620..."
      ]
     },
     "execution_count": 68,
     "metadata": {},
     "output_type": "execute_result"
    }
   ],
   "source": [
    "ew = gpd.read_file(ew_shp)\n",
    "ew"
   ]
  },
  {
   "cell_type": "code",
   "execution_count": 81,
   "metadata": {},
   "outputs": [
    {
     "name": "stdout",
     "output_type": "stream",
     "text": [
      "282182.51477259095 6249874.353796474\n",
      "282180.7393627249 6249808.740823164\n",
      "\n",
      "282199.7285291181 6249808.200481031\n",
      "282199.7285291181 6249873.967837807\n",
      "\n",
      "282182.51477259095 6249874.353796474\n",
      "282180.7393627249 6249808.740823164\n",
      "\n",
      "282199.7285291181 6249873.967837807\n",
      "282199.7285291181 6249808.200481031\n",
      "\n"
     ]
    }
   ],
   "source": [
    "ns2 = gpd.GeoDataFrame((Reorder.reorder(ns, 'north')))\n",
    "print_coords(ns)\n",
    "print_coords(ns2)"
   ]
  },
  {
   "cell_type": "code",
   "execution_count": 82,
   "metadata": {},
   "outputs": [
    {
     "name": "stdout",
     "output_type": "stream",
     "text": [
      "282182.51477259095 6249874.353796474\n",
      "282180.7393627249 6249808.740823164\n",
      "\n",
      "282199.7285291181 6249808.200481031\n",
      "282199.7285291181 6249873.967837807\n",
      "\n",
      "282180.7393627249 6249808.740823164\n",
      "282182.51477259095 6249874.353796474\n",
      "\n",
      "282199.7285291181 6249808.200481031\n",
      "282199.7285291181 6249873.967837807\n",
      "\n"
     ]
    }
   ],
   "source": [
    "ns3 = gpd.GeoDataFrame(Reorder.reorder(ns, 'south'))\n",
    "print_coords(ns)\n",
    "print_coords(ns3)"
   ]
  },
  {
   "cell_type": "code",
   "execution_count": 83,
   "metadata": {},
   "outputs": [
    {
     "name": "stdout",
     "output_type": "stream",
     "text": [
      "282211.07571391406 6249850.887509549\n",
      "282264.1064346951 6249850.887509549\n",
      "\n",
      "282263.1029421621 6249831.049234089\n",
      "282212.61954858014 6249833.287794355\n",
      "\n",
      "282264.1064346951 6249850.887509549\n",
      "282211.07571391406 6249850.887509549\n",
      "\n",
      "282263.1029421621 6249831.049234089\n",
      "282212.61954858014 6249833.287794355\n",
      "\n"
     ]
    }
   ],
   "source": [
    "ew2 = gpd.GeoDataFrame(Reorder.reorder(ew, 'east'))\n",
    "\n",
    "print_coords(ew)\n",
    "print_coords(ew2)"
   ]
  },
  {
   "cell_type": "code",
   "execution_count": 84,
   "metadata": {},
   "outputs": [
    {
     "name": "stdout",
     "output_type": "stream",
     "text": [
      "282211.07571391406 6249850.887509549\n",
      "282264.1064346951 6249850.887509549\n",
      "\n",
      "282263.1029421621 6249831.049234089\n",
      "282212.61954858014 6249833.287794355\n",
      "\n",
      "282264.1064346951 6249850.887509549\n",
      "282211.07571391406 6249850.887509549\n",
      "\n",
      "282263.1029421621 6249831.049234089\n",
      "282212.61954858014 6249833.287794355\n",
      "\n"
     ]
    }
   ],
   "source": [
    "ew3 = gpd.GeoDataFrame(Reorder.reorder(ew, 'east'))\n",
    "print_coords(ew)\n",
    "print_coords(ew3)"
   ]
  },
  {
   "cell_type": "markdown",
   "metadata": {},
   "source": [
    "# Check Label works"
   ]
  },
  {
   "cell_type": "code",
   "execution_count": 52,
   "metadata": {},
   "outputs": [
    {
     "data": {
      "text/html": [
       "<div>\n",
       "<style scoped>\n",
       "    .dataframe tbody tr th:only-of-type {\n",
       "        vertical-align: middle;\n",
       "    }\n",
       "\n",
       "    .dataframe tbody tr th {\n",
       "        vertical-align: top;\n",
       "    }\n",
       "\n",
       "    .dataframe thead th {\n",
       "        text-align: right;\n",
       "    }\n",
       "</style>\n",
       "<table border=\"1\" class=\"dataframe\">\n",
       "  <thead>\n",
       "    <tr style=\"text-align: right;\">\n",
       "      <th></th>\n",
       "      <th>id</th>\n",
       "      <th>row_number</th>\n",
       "      <th>geometry</th>\n",
       "      <th>x</th>\n",
       "    </tr>\n",
       "  </thead>\n",
       "  <tbody>\n",
       "    <tr>\n",
       "      <th>0</th>\n",
       "      <td>None</td>\n",
       "      <td>None</td>\n",
       "      <td>LINESTRING (282182.515 6249874.354, 282180.739...</td>\n",
       "      <td>282181.627068</td>\n",
       "    </tr>\n",
       "    <tr>\n",
       "      <th>1</th>\n",
       "      <td>None</td>\n",
       "      <td>None</td>\n",
       "      <td>LINESTRING (282199.729 6249808.200, 282199.729...</td>\n",
       "      <td>282199.728529</td>\n",
       "    </tr>\n",
       "  </tbody>\n",
       "</table>\n",
       "</div>"
      ],
      "text/plain": [
       "     id row_number                                           geometry  \\\n",
       "0  None       None  LINESTRING (282182.515 6249874.354, 282180.739...   \n",
       "1  None       None  LINESTRING (282199.729 6249808.200, 282199.729...   \n",
       "\n",
       "               x  \n",
       "0  282181.627068  \n",
       "1  282199.728529  "
      ]
     },
     "execution_count": 52,
     "metadata": {},
     "output_type": "execute_result"
    }
   ],
   "source": [
    "ns"
   ]
  },
  {
   "cell_type": "code",
   "execution_count": 53,
   "metadata": {},
   "outputs": [
    {
     "data": {
      "text/html": [
       "<div>\n",
       "<style scoped>\n",
       "    .dataframe tbody tr th:only-of-type {\n",
       "        vertical-align: middle;\n",
       "    }\n",
       "\n",
       "    .dataframe tbody tr th {\n",
       "        vertical-align: top;\n",
       "    }\n",
       "\n",
       "    .dataframe thead th {\n",
       "        text-align: right;\n",
       "    }\n",
       "</style>\n",
       "<table border=\"1\" class=\"dataframe\">\n",
       "  <thead>\n",
       "    <tr style=\"text-align: right;\">\n",
       "      <th></th>\n",
       "      <th>id</th>\n",
       "      <th>row_number</th>\n",
       "      <th>geometry</th>\n",
       "    </tr>\n",
       "  </thead>\n",
       "  <tbody>\n",
       "    <tr>\n",
       "      <th>0</th>\n",
       "      <td>None</td>\n",
       "      <td>1</td>\n",
       "      <td>LINESTRING (282182.515 6249874.354, 282180.739...</td>\n",
       "    </tr>\n",
       "    <tr>\n",
       "      <th>1</th>\n",
       "      <td>None</td>\n",
       "      <td>2</td>\n",
       "      <td>LINESTRING (282199.729 6249808.200, 282199.729...</td>\n",
       "    </tr>\n",
       "  </tbody>\n",
       "</table>\n",
       "</div>"
      ],
      "text/plain": [
       "     id  row_number                                           geometry\n",
       "0  None           1  LINESTRING (282182.515 6249874.354, 282180.739...\n",
       "1  None           2  LINESTRING (282199.729 6249808.200, 282199.729..."
      ]
     },
     "execution_count": 53,
     "metadata": {},
     "output_type": "execute_result"
    }
   ],
   "source": [
    "Label_line.count_line('west', 1, ns)"
   ]
  },
  {
   "cell_type": "code",
   "execution_count": 54,
   "metadata": {},
   "outputs": [
    {
     "data": {
      "text/html": [
       "<div>\n",
       "<style scoped>\n",
       "    .dataframe tbody tr th:only-of-type {\n",
       "        vertical-align: middle;\n",
       "    }\n",
       "\n",
       "    .dataframe tbody tr th {\n",
       "        vertical-align: top;\n",
       "    }\n",
       "\n",
       "    .dataframe thead th {\n",
       "        text-align: right;\n",
       "    }\n",
       "</style>\n",
       "<table border=\"1\" class=\"dataframe\">\n",
       "  <thead>\n",
       "    <tr style=\"text-align: right;\">\n",
       "      <th></th>\n",
       "      <th>id</th>\n",
       "      <th>row_number</th>\n",
       "      <th>geometry</th>\n",
       "    </tr>\n",
       "  </thead>\n",
       "  <tbody>\n",
       "    <tr>\n",
       "      <th>0</th>\n",
       "      <td>None</td>\n",
       "      <td>2</td>\n",
       "      <td>LINESTRING (282182.515 6249874.354, 282180.739...</td>\n",
       "    </tr>\n",
       "    <tr>\n",
       "      <th>1</th>\n",
       "      <td>None</td>\n",
       "      <td>1</td>\n",
       "      <td>LINESTRING (282199.729 6249808.200, 282199.729...</td>\n",
       "    </tr>\n",
       "  </tbody>\n",
       "</table>\n",
       "</div>"
      ],
      "text/plain": [
       "     id  row_number                                           geometry\n",
       "0  None           2  LINESTRING (282182.515 6249874.354, 282180.739...\n",
       "1  None           1  LINESTRING (282199.729 6249808.200, 282199.729..."
      ]
     },
     "execution_count": 54,
     "metadata": {},
     "output_type": "execute_result"
    }
   ],
   "source": [
    "Label_line.count_line('east', 1, ns)"
   ]
  },
  {
   "cell_type": "code",
   "execution_count": 55,
   "metadata": {},
   "outputs": [
    {
     "data": {
      "text/html": [
       "<div>\n",
       "<style scoped>\n",
       "    .dataframe tbody tr th:only-of-type {\n",
       "        vertical-align: middle;\n",
       "    }\n",
       "\n",
       "    .dataframe tbody tr th {\n",
       "        vertical-align: top;\n",
       "    }\n",
       "\n",
       "    .dataframe thead th {\n",
       "        text-align: right;\n",
       "    }\n",
       "</style>\n",
       "<table border=\"1\" class=\"dataframe\">\n",
       "  <thead>\n",
       "    <tr style=\"text-align: right;\">\n",
       "      <th></th>\n",
       "      <th>id</th>\n",
       "      <th>row_number</th>\n",
       "      <th>geometry</th>\n",
       "      <th>y</th>\n",
       "    </tr>\n",
       "  </thead>\n",
       "  <tbody>\n",
       "    <tr>\n",
       "      <th>0</th>\n",
       "      <td>None</td>\n",
       "      <td>None</td>\n",
       "      <td>LINESTRING (282211.076 6249850.888, 282264.106...</td>\n",
       "      <td>6.249851e+06</td>\n",
       "    </tr>\n",
       "    <tr>\n",
       "      <th>1</th>\n",
       "      <td>None</td>\n",
       "      <td>None</td>\n",
       "      <td>LINESTRING (282263.103 6249831.049, 282212.620...</td>\n",
       "      <td>6.249832e+06</td>\n",
       "    </tr>\n",
       "  </tbody>\n",
       "</table>\n",
       "</div>"
      ],
      "text/plain": [
       "     id row_number                                           geometry  \\\n",
       "0  None       None  LINESTRING (282211.076 6249850.888, 282264.106...   \n",
       "1  None       None  LINESTRING (282263.103 6249831.049, 282212.620...   \n",
       "\n",
       "              y  \n",
       "0  6.249851e+06  \n",
       "1  6.249832e+06  "
      ]
     },
     "execution_count": 55,
     "metadata": {},
     "output_type": "execute_result"
    }
   ],
   "source": [
    "ew"
   ]
  },
  {
   "cell_type": "code",
   "execution_count": 56,
   "metadata": {},
   "outputs": [
    {
     "data": {
      "text/html": [
       "<div>\n",
       "<style scoped>\n",
       "    .dataframe tbody tr th:only-of-type {\n",
       "        vertical-align: middle;\n",
       "    }\n",
       "\n",
       "    .dataframe tbody tr th {\n",
       "        vertical-align: top;\n",
       "    }\n",
       "\n",
       "    .dataframe thead th {\n",
       "        text-align: right;\n",
       "    }\n",
       "</style>\n",
       "<table border=\"1\" class=\"dataframe\">\n",
       "  <thead>\n",
       "    <tr style=\"text-align: right;\">\n",
       "      <th></th>\n",
       "      <th>id</th>\n",
       "      <th>row_number</th>\n",
       "      <th>geometry</th>\n",
       "    </tr>\n",
       "  </thead>\n",
       "  <tbody>\n",
       "    <tr>\n",
       "      <th>0</th>\n",
       "      <td>None</td>\n",
       "      <td>2</td>\n",
       "      <td>LINESTRING (282211.076 6249850.888, 282264.106...</td>\n",
       "    </tr>\n",
       "    <tr>\n",
       "      <th>1</th>\n",
       "      <td>None</td>\n",
       "      <td>1</td>\n",
       "      <td>LINESTRING (282263.103 6249831.049, 282212.620...</td>\n",
       "    </tr>\n",
       "  </tbody>\n",
       "</table>\n",
       "</div>"
      ],
      "text/plain": [
       "     id  row_number                                           geometry\n",
       "0  None           2  LINESTRING (282211.076 6249850.888, 282264.106...\n",
       "1  None           1  LINESTRING (282263.103 6249831.049, 282212.620..."
      ]
     },
     "execution_count": 56,
     "metadata": {},
     "output_type": "execute_result"
    }
   ],
   "source": [
    "Label_line.count_line('south', 1, ew)"
   ]
  },
  {
   "cell_type": "code",
   "execution_count": 57,
   "metadata": {},
   "outputs": [
    {
     "data": {
      "text/html": [
       "<div>\n",
       "<style scoped>\n",
       "    .dataframe tbody tr th:only-of-type {\n",
       "        vertical-align: middle;\n",
       "    }\n",
       "\n",
       "    .dataframe tbody tr th {\n",
       "        vertical-align: top;\n",
       "    }\n",
       "\n",
       "    .dataframe thead th {\n",
       "        text-align: right;\n",
       "    }\n",
       "</style>\n",
       "<table border=\"1\" class=\"dataframe\">\n",
       "  <thead>\n",
       "    <tr style=\"text-align: right;\">\n",
       "      <th></th>\n",
       "      <th>id</th>\n",
       "      <th>row_number</th>\n",
       "      <th>geometry</th>\n",
       "    </tr>\n",
       "  </thead>\n",
       "  <tbody>\n",
       "    <tr>\n",
       "      <th>0</th>\n",
       "      <td>None</td>\n",
       "      <td>1</td>\n",
       "      <td>LINESTRING (282211.076 6249850.888, 282264.106...</td>\n",
       "    </tr>\n",
       "    <tr>\n",
       "      <th>1</th>\n",
       "      <td>None</td>\n",
       "      <td>2</td>\n",
       "      <td>LINESTRING (282263.103 6249831.049, 282212.620...</td>\n",
       "    </tr>\n",
       "  </tbody>\n",
       "</table>\n",
       "</div>"
      ],
      "text/plain": [
       "     id  row_number                                           geometry\n",
       "0  None           1  LINESTRING (282211.076 6249850.888, 282264.106...\n",
       "1  None           2  LINESTRING (282263.103 6249831.049, 282212.620..."
      ]
     },
     "execution_count": 57,
     "metadata": {},
     "output_type": "execute_result"
    }
   ],
   "source": [
    "Label_line.count_line('north', 1, ew)"
   ]
  },
  {
   "cell_type": "code",
   "execution_count": null,
   "metadata": {},
   "outputs": [],
   "source": []
  }
 ],
 "metadata": {
  "kernelspec": {
   "display_name": "Python 3",
   "language": "python",
   "name": "python3"
  },
  "language_info": {
   "codemirror_mode": {
    "name": "ipython",
    "version": 3
   },
   "file_extension": ".py",
   "mimetype": "text/x-python",
   "name": "python",
   "nbconvert_exporter": "python",
   "pygments_lexer": "ipython3",
   "version": "3.8.5"
  }
 },
 "nbformat": 4,
 "nbformat_minor": 4
}
